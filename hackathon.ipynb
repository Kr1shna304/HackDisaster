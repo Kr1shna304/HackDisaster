{
  "nbformat": 4,
  "nbformat_minor": 0,
  "metadata": {
    "colab": {
      "provenance": []
    },
    "kernelspec": {
      "name": "python3",
      "display_name": "Python 3"
    },
    "language_info": {
      "name": "python"
    }
  },
  "cells": [
    {
      "cell_type": "markdown",
      "source": [
        "## Install the libraries and prepare the API model"
      ],
      "metadata": {
        "id": "Xs9atBBL89wH"
      }
    },
    {
      "cell_type": "code",
      "source": [
        "# import the inference-sdk\n",
        "%pip install inference_sdk\n",
        "from google.colab import drive\n",
        "from inference_sdk import InferenceHTTPClient\n",
        "\n",
        "# initialize the client\n",
        "CLIENT = InferenceHTTPClient(\n",
        "    api_url=\"https://detect.roboflow.com\",\n",
        "    api_key=\"WFIbKZhlG2t0OkPoFFDm\"\n",
        ")"
      ],
      "metadata": {
        "colab": {
          "base_uri": "https://localhost:8080/"
        },
        "id": "RiIsEaMS8-kQ",
        "outputId": "2e22e8e9-72b7-426d-859b-6bc77974e553"
      },
      "execution_count": null,
      "outputs": [
        {
          "output_type": "stream",
          "name": "stdout",
          "text": [
            "Requirement already satisfied: inference_sdk in /usr/local/lib/python3.10/dist-packages (0.27.0)\n",
            "Requirement already satisfied: requests<3.0.0,>=2.32.0 in /usr/local/lib/python3.10/dist-packages (from inference_sdk) (2.32.3)\n",
            "Requirement already satisfied: dataclasses-json~=0.6.0 in /usr/local/lib/python3.10/dist-packages (from inference_sdk) (0.6.7)\n",
            "Requirement already satisfied: opencv-python<=4.10.0.84,>=4.8.1.78 in /usr/local/lib/python3.10/dist-packages (from inference_sdk) (4.10.0.84)\n",
            "Requirement already satisfied: pillow<11.0,>=9.0.0 in /usr/local/lib/python3.10/dist-packages (from inference_sdk) (10.4.0)\n",
            "Requirement already satisfied: supervision<=0.22.0,>=0.21.0 in /usr/local/lib/python3.10/dist-packages (from inference_sdk) (0.22.0)\n",
            "Requirement already satisfied: numpy<=1.26.4 in /usr/local/lib/python3.10/dist-packages (from inference_sdk) (1.26.4)\n",
            "Requirement already satisfied: aiohttp<=3.10.11,>=3.9.0 in /usr/local/lib/python3.10/dist-packages (from inference_sdk) (3.10.10)\n",
            "Requirement already satisfied: backoff~=2.2.0 in /usr/local/lib/python3.10/dist-packages (from inference_sdk) (2.2.1)\n",
            "Requirement already satisfied: py-cpuinfo~=9.0.0 in /usr/local/lib/python3.10/dist-packages (from inference_sdk) (9.0.0)\n",
            "Requirement already satisfied: aiohappyeyeballs>=2.3.0 in /usr/local/lib/python3.10/dist-packages (from aiohttp<=3.10.11,>=3.9.0->inference_sdk) (2.4.3)\n",
            "Requirement already satisfied: aiosignal>=1.1.2 in /usr/local/lib/python3.10/dist-packages (from aiohttp<=3.10.11,>=3.9.0->inference_sdk) (1.3.1)\n",
            "Requirement already satisfied: attrs>=17.3.0 in /usr/local/lib/python3.10/dist-packages (from aiohttp<=3.10.11,>=3.9.0->inference_sdk) (24.2.0)\n",
            "Requirement already satisfied: frozenlist>=1.1.1 in /usr/local/lib/python3.10/dist-packages (from aiohttp<=3.10.11,>=3.9.0->inference_sdk) (1.5.0)\n",
            "Requirement already satisfied: multidict<7.0,>=4.5 in /usr/local/lib/python3.10/dist-packages (from aiohttp<=3.10.11,>=3.9.0->inference_sdk) (6.1.0)\n",
            "Requirement already satisfied: yarl<2.0,>=1.12.0 in /usr/local/lib/python3.10/dist-packages (from aiohttp<=3.10.11,>=3.9.0->inference_sdk) (1.17.1)\n",
            "Requirement already satisfied: async-timeout<5.0,>=4.0 in /usr/local/lib/python3.10/dist-packages (from aiohttp<=3.10.11,>=3.9.0->inference_sdk) (4.0.3)\n",
            "Requirement already satisfied: marshmallow<4.0.0,>=3.18.0 in /usr/local/lib/python3.10/dist-packages (from dataclasses-json~=0.6.0->inference_sdk) (3.23.1)\n",
            "Requirement already satisfied: typing-inspect<1,>=0.4.0 in /usr/local/lib/python3.10/dist-packages (from dataclasses-json~=0.6.0->inference_sdk) (0.9.0)\n",
            "Requirement already satisfied: charset-normalizer<4,>=2 in /usr/local/lib/python3.10/dist-packages (from requests<3.0.0,>=2.32.0->inference_sdk) (3.4.0)\n",
            "Requirement already satisfied: idna<4,>=2.5 in /usr/local/lib/python3.10/dist-packages (from requests<3.0.0,>=2.32.0->inference_sdk) (3.10)\n",
            "Requirement already satisfied: urllib3<3,>=1.21.1 in /usr/local/lib/python3.10/dist-packages (from requests<3.0.0,>=2.32.0->inference_sdk) (2.2.3)\n",
            "Requirement already satisfied: certifi>=2017.4.17 in /usr/local/lib/python3.10/dist-packages (from requests<3.0.0,>=2.32.0->inference_sdk) (2024.8.30)\n",
            "Requirement already satisfied: defusedxml<0.8.0,>=0.7.1 in /usr/local/lib/python3.10/dist-packages (from supervision<=0.22.0,>=0.21.0->inference_sdk) (0.7.1)\n",
            "Requirement already satisfied: matplotlib>=3.6.0 in /usr/local/lib/python3.10/dist-packages (from supervision<=0.22.0,>=0.21.0->inference_sdk) (3.8.0)\n",
            "Requirement already satisfied: opencv-python-headless>=4.5.5.64 in /usr/local/lib/python3.10/dist-packages (from supervision<=0.22.0,>=0.21.0->inference_sdk) (4.10.0.84)\n",
            "Requirement already satisfied: pyyaml>=5.3 in /usr/local/lib/python3.10/dist-packages (from supervision<=0.22.0,>=0.21.0->inference_sdk) (6.0.2)\n",
            "Requirement already satisfied: scipy<2.0.0,>=1.10.0 in /usr/local/lib/python3.10/dist-packages (from supervision<=0.22.0,>=0.21.0->inference_sdk) (1.13.1)\n",
            "Requirement already satisfied: packaging>=17.0 in /usr/local/lib/python3.10/dist-packages (from marshmallow<4.0.0,>=3.18.0->dataclasses-json~=0.6.0->inference_sdk) (24.2)\n",
            "Requirement already satisfied: contourpy>=1.0.1 in /usr/local/lib/python3.10/dist-packages (from matplotlib>=3.6.0->supervision<=0.22.0,>=0.21.0->inference_sdk) (1.3.1)\n",
            "Requirement already satisfied: cycler>=0.10 in /usr/local/lib/python3.10/dist-packages (from matplotlib>=3.6.0->supervision<=0.22.0,>=0.21.0->inference_sdk) (0.12.1)\n",
            "Requirement already satisfied: fonttools>=4.22.0 in /usr/local/lib/python3.10/dist-packages (from matplotlib>=3.6.0->supervision<=0.22.0,>=0.21.0->inference_sdk) (4.54.1)\n",
            "Requirement already satisfied: kiwisolver>=1.0.1 in /usr/local/lib/python3.10/dist-packages (from matplotlib>=3.6.0->supervision<=0.22.0,>=0.21.0->inference_sdk) (1.4.7)\n",
            "Requirement already satisfied: pyparsing>=2.3.1 in /usr/local/lib/python3.10/dist-packages (from matplotlib>=3.6.0->supervision<=0.22.0,>=0.21.0->inference_sdk) (3.2.0)\n",
            "Requirement already satisfied: python-dateutil>=2.7 in /usr/local/lib/python3.10/dist-packages (from matplotlib>=3.6.0->supervision<=0.22.0,>=0.21.0->inference_sdk) (2.8.2)\n",
            "Requirement already satisfied: typing-extensions>=4.1.0 in /usr/local/lib/python3.10/dist-packages (from multidict<7.0,>=4.5->aiohttp<=3.10.11,>=3.9.0->inference_sdk) (4.12.2)\n",
            "Requirement already satisfied: mypy-extensions>=0.3.0 in /usr/local/lib/python3.10/dist-packages (from typing-inspect<1,>=0.4.0->dataclasses-json~=0.6.0->inference_sdk) (1.0.0)\n",
            "Requirement already satisfied: propcache>=0.2.0 in /usr/local/lib/python3.10/dist-packages (from yarl<2.0,>=1.12.0->aiohttp<=3.10.11,>=3.9.0->inference_sdk) (0.2.0)\n",
            "Requirement already satisfied: six>=1.5 in /usr/local/lib/python3.10/dist-packages (from python-dateutil>=2.7->matplotlib>=3.6.0->supervision<=0.22.0,>=0.21.0->inference_sdk) (1.16.0)\n"
          ]
        }
      ]
    },
    {
      "cell_type": "markdown",
      "source": [
        "## Sample testing images are stored in the google drive and we are mounting them"
      ],
      "metadata": {
        "id": "8-bJj61e9PT_"
      }
    },
    {
      "cell_type": "code",
      "source": [
        "# Mount Google Drive\n",
        "drive.mount('/content/drive')\n",
        "\n",
        "# Define the folder path in Google Drive\n",
        "base_dir = '/content/drive/MyDrive/Colab Notebooks/Ukraine locations/'"
      ],
      "metadata": {
        "colab": {
          "base_uri": "https://localhost:8080/"
        },
        "id": "CvjOJbCCrvhx",
        "outputId": "f9550ddb-2162-4481-9dfc-7a9fdd7b4952"
      },
      "execution_count": null,
      "outputs": [
        {
          "output_type": "stream",
          "name": "stdout",
          "text": [
            "Drive already mounted at /content/drive; to attempt to forcibly remount, call drive.mount(\"/content/drive\", force_remount=True).\n"
          ]
        }
      ]
    },
    {
      "cell_type": "markdown",
      "source": [
        "## Run the model on each image from location folder"
      ],
      "metadata": {
        "id": "VQjPnR-L9eUb"
      }
    },
    {
      "cell_type": "code",
      "source": [
        "from PIL import Image\n",
        "import os\n",
        "from datetime import datetime\n",
        "\n",
        "# Cost estimates for each damage category (min, max) from the database\n",
        "cost_estimates = {\n",
        "    \"broken_window\": (200, 800),\n",
        "    \"roof_damage\": (1500, 9000),\n",
        "    \"crack_damage\": (500, 5000),\n",
        "    \"minor_damage\": (100, 500),\n",
        "    \"major_damage\": (5000, 20000)\n",
        "}\n",
        "\n",
        "# Define the base directory with subfolders representing building locations\n",
        "base_dir = \"/content/drive/MyDrive/Colab Notebooks/Ukraine locations/\"  # Google Drive path\n",
        "\n",
        "# Iterate over the folders in the base directory (each representing a location)\n",
        "for location_folder in os.listdir(base_dir):\n",
        "    location_path = os.path.join(base_dir, location_folder)\n",
        "    if not os.path.isdir(location_path):\n",
        "        continue\n",
        "\n",
        "    # Initialize damage counts and cost totals\n",
        "    damage_count = {key: 0 for key in cost_estimates.keys()}\n",
        "    min_total_cost, max_total_cost = 0, 0\n",
        "\n",
        "    # Process each image in the location folder\n",
        "    for img_name in os.listdir(location_path):\n",
        "        if img_name.endswith(\".png\") or img_name.endswith(\".jpg\"):\n",
        "            img_path = os.path.join(location_path, img_name)\n",
        "\n",
        "            # Open the image\n",
        "            img = Image.open(img_path)\n",
        "\n",
        "            # Convert RGBA to RGB if necessary\n",
        "            if img.mode == 'RGBA':\n",
        "                img = img.convert('RGB')\n",
        "\n",
        "            # Run inference on the image (replace with your inference model code)\n",
        "            result = CLIENT.infer(img_path, model_id=\"building-damage-dlnea/2\")\n",
        "\n",
        "            # Process predictions\n",
        "            for pred in result[\"predictions\"]:\n",
        "                damage_type = pred[\"class\"]\n",
        "                if damage_type in damage_count:\n",
        "                    damage_count[damage_type] += 1\n",
        "                    # Add to the cost totals\n",
        "                    min_total_cost += cost_estimates[damage_type][0]\n",
        "                    max_total_cost += cost_estimates[damage_type][1]\n",
        "\n",
        "    # Print Report for the current location\n",
        "    print(f\"\\nBuilding Damage Assessment Report for {location_folder}\")\n",
        "\n",
        "    # Print Header\n",
        "    print(\"===============================================\")\n",
        "    print(f\"Location: {location_folder}\")\n",
        "    report_date = datetime.now().strftime(\"%Y-%m-%d %H:%M:%S\")\n",
        "    print(f\"Report Generated on: {report_date}\")\n",
        "    print(\"===============================================\")\n",
        "\n",
        "    # Print Damage Summary Table\n",
        "    print(\"| Category       | Count | Estimated Cost (if available) |\")\n",
        "    print(\"-----------------------------------------------\")\n",
        "    for damage_type, count in damage_count.items():\n",
        "        if count > 0:\n",
        "            min_cost, max_cost = cost_estimates[damage_type]\n",
        "            estimated_cost = f\"${min_cost * count} - ${max_cost * count}\"\n",
        "            print(f\"| {damage_type.ljust(15)} | {str(count).ljust(5)} | {estimated_cost.ljust(30)} |\")\n",
        "\n",
        "    # Print Total Cost Summary\n",
        "    print(\"-----------------------------------------------\")\n",
        "    print(f\"Total Estimated Cost: ${min_total_cost} - ${max_total_cost}\")\n",
        "    print(\"===============================================\\n\")\n",
        "\n",
        "print(\"Reports printed successfully!\")\n"
      ],
      "metadata": {
        "colab": {
          "base_uri": "https://localhost:8080/"
        },
        "id": "8Bqp0fz3sH19",
        "outputId": "1cdcccbd-dc22-42d1-83d8-b8fd6b13b4a9"
      },
      "execution_count": null,
      "outputs": [
        {
          "output_type": "stream",
          "name": "stdout",
          "text": [
            "\n",
            "Building Damage Assessment Report for 50.4501_30.5234\n",
            "===============================================\n",
            "Location: 50.4501_30.5234\n",
            "Report Generated on: 2024-11-16 14:50:53\n",
            "===============================================\n",
            "| Category       | Count | Estimated Cost (if available) |\n",
            "-----------------------------------------------\n",
            "| broken_window   | 6     | $1200 - $4800                  |\n",
            "| roof_damage     | 1     | $1500 - $9000                  |\n",
            "-----------------------------------------------\n",
            "Total Estimated Cost: $2700 - $13800\n",
            "===============================================\n",
            "\n",
            "\n",
            "Building Damage Assessment Report for 47.8388_35.1396\n",
            "===============================================\n",
            "Location: 47.8388_35.1396\n",
            "Report Generated on: 2024-11-16 14:50:55\n",
            "===============================================\n",
            "| Category       | Count | Estimated Cost (if available) |\n",
            "-----------------------------------------------\n",
            "| broken_window   | 4     | $800 - $3200                   |\n",
            "| roof_damage     | 1     | $1500 - $9000                  |\n",
            "| crack_damage    | 3     | $1500 - $15000                 |\n",
            "| minor_damage    | 2     | $200 - $1000                   |\n",
            "-----------------------------------------------\n",
            "Total Estimated Cost: $4000 - $28200\n",
            "===============================================\n",
            "\n",
            "Reports printed successfully!\n"
          ]
        }
      ]
    },
    {
      "cell_type": "code",
      "source": [],
      "metadata": {
        "id": "mo-qLS99uaVj"
      },
      "execution_count": null,
      "outputs": []
    },
    {
      "cell_type": "markdown",
      "source": [],
      "metadata": {
        "id": "8Sa7rg-P88SN"
      }
    }
  ]
}